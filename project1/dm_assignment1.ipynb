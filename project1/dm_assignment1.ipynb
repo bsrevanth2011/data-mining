{
 "cells": [
  {
   "cell_type": "code",
   "execution_count": 1,
   "id": "d1b6850a",
   "metadata": {},
   "outputs": [],
   "source": [
    "import pandas as pd\n",
    "import datetime\n",
    "import numpy as np"
   ]
  },
  {
   "cell_type": "code",
   "execution_count": 2,
   "id": "291f7844",
   "metadata": {},
   "outputs": [],
   "source": [
    "# data the provided in reverse chornological order, load it in chronological order\n",
    "\n",
    "cgm_df = pd.read_csv('./CGMData.csv', low_memory=False, usecols = ['Date', 'Time', 'Sensor Glucose (mg/dL)'])[::-1]"
   ]
  },
  {
   "cell_type": "code",
   "execution_count": 3,
   "id": "7d4f23c8",
   "metadata": {},
   "outputs": [],
   "source": [
    "cgm_df['DateTime'] = pd.to_datetime(cgm_df['Date'] + ' ' + cgm_df['Time'], format='%m/%d/%Y %H:%M:%S')"
   ]
  },
  {
   "cell_type": "code",
   "execution_count": 4,
   "id": "c06b4ced",
   "metadata": {},
   "outputs": [],
   "source": [
    "cgm_df['Date'] = cgm_df['DateTime'].dt.date"
   ]
  },
  {
   "cell_type": "code",
   "execution_count": 5,
   "id": "54b3d8c9",
   "metadata": {},
   "outputs": [],
   "source": [
    "cgm_df = cgm_df[cgm_df['Sensor Glucose (mg/dL)'].notna()]"
   ]
  },
  {
   "cell_type": "code",
   "execution_count": 6,
   "id": "74bfef07",
   "metadata": {},
   "outputs": [],
   "source": [
    "ip_df = pd.read_csv('./InsulinData.csv', low_memory=False, usecols = ['Date', 'Time', 'Alarm'])"
   ]
  },
  {
   "cell_type": "code",
   "execution_count": 7,
   "id": "b8101001",
   "metadata": {},
   "outputs": [],
   "source": [
    "\"\"\" \n",
    "Using the last matched row as this is the first occurence of \n",
    "the Alarm since the Insulin Pump data is in reverse chronological order.\n",
    "\"\"\"\n",
    "row = ip_df.loc[ip_df['Alarm'] == 'AUTO MODE ACTIVE PLGM OFF'].iloc[-1]\n",
    "auto_start_datetime = pd.to_datetime(row['Date'] + ' ' + row['Time'], format='%m/%d/%Y %H:%M:%S')"
   ]
  },
  {
   "cell_type": "code",
   "execution_count": 8,
   "id": "5e1ffee9",
   "metadata": {},
   "outputs": [],
   "source": [
    "# separate out auto and manaul mode data\n",
    "\n",
    "auto_cgm_df = cgm_df[cgm_df['DateTime'] <= auto_start_datetime]\n",
    "manual_cgm_df = cgm_df[cgm_df['DateTime'] > auto_start_datetime]"
   ]
  },
  {
   "cell_type": "code",
   "execution_count": 9,
   "id": "00f72070",
   "metadata": {},
   "outputs": [],
   "source": [
    "# daytime interval\n",
    "\n",
    "daytime_start = datetime.time(6,0,0)\n",
    "daytime_end = datetime.time(23,59,59)"
   ]
  },
  {
   "cell_type": "code",
   "execution_count": 10,
   "id": "e8186404",
   "metadata": {},
   "outputs": [],
   "source": [
    "#overnight interval\n",
    "\n",
    "overnight_start = datetime.time(0,0,0)\n",
    "overnight_end = datetime.time(5,59,59)"
   ]
  },
  {
   "cell_type": "code",
   "execution_count": 11,
   "id": "1f27906c",
   "metadata": {},
   "outputs": [],
   "source": [
    "# removing entries for days with reading count < 80% of 288\n",
    "\n",
    "dates_to_drop = auto_cgm_df.set_index('Date').groupby('Date').count()\\\n",
    "    .where(lambda g: g < 0.8 * 288).dropna().index\n",
    "\n",
    "auto_cgm_df = auto_cgm_df.set_index('Date').drop(dates_to_drop, axis = 'index')"
   ]
  },
  {
   "cell_type": "code",
   "execution_count": 12,
   "id": "7fff934d",
   "metadata": {},
   "outputs": [],
   "source": [
    "auto_cgm_df = auto_cgm_df.reset_index().set_index('DateTime')"
   ]
  },
  {
   "cell_type": "code",
   "execution_count": 13,
   "id": "fcbd3d7b",
   "metadata": {},
   "outputs": [],
   "source": [
    "auto_cgm_daytime_df = auto_cgm_df.between_time(daytime_start, daytime_end)"
   ]
  },
  {
   "cell_type": "code",
   "execution_count": 14,
   "id": "082dec3e",
   "metadata": {},
   "outputs": [],
   "source": [
    "auto_cgm_overnight_df = auto_cgm_df.between_time(overnight_start, overnight_end)"
   ]
  },
  {
   "cell_type": "code",
   "execution_count": 15,
   "id": "2b8a3127",
   "metadata": {},
   "outputs": [],
   "source": [
    "auto_cgm_df = auto_cgm_df.reset_index().set_index('Date')\n",
    "auto_cgm_daytime_df = auto_cgm_daytime_df.reset_index().set_index('Date')\n",
    "auto_cgm_overnight_df = auto_cgm_overnight_df.reset_index().set_index('Date')"
   ]
  },
  {
   "cell_type": "code",
   "execution_count": 16,
   "id": "1a64cf97",
   "metadata": {},
   "outputs": [],
   "source": [
    "# removing entries for days with reading count < 80% of 288\n",
    "\n",
    "dates_to_drop = manual_cgm_df.set_index('Date').groupby('Date').count()\\\n",
    "    .where(lambda g: g < 0.8 * 288).dropna().index\n",
    "\n",
    "manual_cgm_df = manual_cgm_df.set_index('Date').drop(dates_to_drop, axis = 'index')"
   ]
  },
  {
   "cell_type": "code",
   "execution_count": 17,
   "id": "773148d5",
   "metadata": {},
   "outputs": [],
   "source": [
    "manual_cgm_df = manual_cgm_df.reset_index().set_index('DateTime')"
   ]
  },
  {
   "cell_type": "code",
   "execution_count": 18,
   "id": "d590d84a",
   "metadata": {},
   "outputs": [],
   "source": [
    "manual_cgm_daytime_df = manual_cgm_df.between_time(daytime_start, daytime_end)"
   ]
  },
  {
   "cell_type": "code",
   "execution_count": 19,
   "id": "669e77e2",
   "metadata": {},
   "outputs": [],
   "source": [
    "manual_cgm_overnight_df = manual_cgm_df.between_time(overnight_start, overnight_end)"
   ]
  },
  {
   "cell_type": "code",
   "execution_count": 20,
   "id": "a97b98eb",
   "metadata": {},
   "outputs": [],
   "source": [
    "manual_cgm_df = manual_cgm_df.reset_index().set_index('Date')\n",
    "manual_cgm_daytime_df = manual_cgm_daytime_df.reset_index().set_index('Date')\n",
    "manual_cgm_overnight_df = manual_cgm_overnight_df.reset_index().set_index('Date')"
   ]
  },
  {
   "cell_type": "code",
   "execution_count": 21,
   "id": "ee091e25",
   "metadata": {},
   "outputs": [],
   "source": [
    "pcnt_time_hyperglycemia_wholeday_auto = auto_cgm_df[auto_cgm_df['Sensor Glucose (mg/dL)'] > 180].groupby('Date').agg(lambda x: x.count() * 100 / 288)['Sensor Glucose (mg/dL)'].mean()\n",
    "\n",
    "pcnt_time_hyperglycemia_critical_wholeday_auto = auto_cgm_df[auto_cgm_df['Sensor Glucose (mg/dL)'] > 250].groupby('Date').agg(lambda x: x.count() * 100 / 288)['Sensor Glucose (mg/dL)'].mean()\n",
    "\n",
    "pcnt_time_hyperglycemia_range_wholeday_auto = auto_cgm_df[auto_cgm_df['Sensor Glucose (mg/dL)'] <= 180].groupby('Date').agg(lambda x: x.count() * 100 / 288)['Sensor Glucose (mg/dL)'].mean()\n",
    "\n",
    "pcnt_time_hyperglycemia_range_secondary_wholeday_auto = auto_cgm_df[auto_cgm_df['Sensor Glucose (mg/dL)'] <= 150].groupby('Date').agg(lambda x: x.count() * 100 / 288)['Sensor Glucose (mg/dL)'].mean()\n",
    "\n",
    "pcnt_time_hyperglycemia_hypoglycemia_lvl1_wholeday_auto = auto_cgm_df[auto_cgm_df['Sensor Glucose (mg/dL)'] < 70].groupby('Date').agg(lambda x: x.count() * 100 / 288)['Sensor Glucose (mg/dL)'].mean()\n",
    "\n",
    "pcnt_time_hyperglycemia_hypoglycemia_lvl2_wholeday_auto = auto_cgm_df[auto_cgm_df['Sensor Glucose (mg/dL)'] < 54].groupby('Date').agg(lambda x: x.count() * 100 / 288)['Sensor Glucose (mg/dL)'].mean()"
   ]
  },
  {
   "cell_type": "code",
   "execution_count": 22,
   "id": "accfd655",
   "metadata": {},
   "outputs": [],
   "source": [
    "pcnt_time_hyperglycemia_daytime_auto = auto_cgm_daytime_df[auto_cgm_daytime_df['Sensor Glucose (mg/dL)'] > 180].groupby('Date').agg(lambda x: x.count() * 100 / 288)['Sensor Glucose (mg/dL)'].mean()\n",
    "\n",
    "pcnt_time_hyperglycemia_critical_daytime_auto = auto_cgm_daytime_df[auto_cgm_daytime_df['Sensor Glucose (mg/dL)'] > 250].groupby('Date').agg(lambda x: x.count() * 100 / 288)['Sensor Glucose (mg/dL)'].mean()\n",
    "\n",
    "pcnt_time_hyperglycemia_range_daytime_auto = auto_cgm_daytime_df[auto_cgm_daytime_df['Sensor Glucose (mg/dL)'] <= 180].groupby('Date').agg(lambda x: x.count() * 100 / 288)['Sensor Glucose (mg/dL)'].mean()\n",
    "\n",
    "pcnt_time_hyperglycemia_range_secondary_daytime_auto = auto_cgm_daytime_df[auto_cgm_daytime_df['Sensor Glucose (mg/dL)'] <= 150].groupby('Date').agg(lambda x: x.count() * 100 / 288)['Sensor Glucose (mg/dL)'].mean()\n",
    "\n",
    "pcnt_time_hyperglycemia_hypoglycemia_lvl1_daytime_auto = auto_cgm_daytime_df[auto_cgm_daytime_df['Sensor Glucose (mg/dL)'] < 70].groupby('Date').agg(lambda x: x.count() * 100 / 288)['Sensor Glucose (mg/dL)'].mean()\n",
    "\n",
    "pcnt_time_hyperglycemia_hypoglycemia_lvl2_daytime_auto = auto_cgm_daytime_df[auto_cgm_daytime_df['Sensor Glucose (mg/dL)'] < 54].groupby('Date').agg(lambda x: x.count() * 100 / 288)['Sensor Glucose (mg/dL)'].mean()"
   ]
  },
  {
   "cell_type": "code",
   "execution_count": 23,
   "id": "0a84c2ae",
   "metadata": {},
   "outputs": [],
   "source": [
    "pcnt_time_hyperglycemia_overnight_auto = auto_cgm_overnight_df[auto_cgm_overnight_df['Sensor Glucose (mg/dL)'] > 180].groupby('Date').agg(lambda x: x.count() * 100 / 288)['Sensor Glucose (mg/dL)'].mean()\n",
    "\n",
    "pcnt_time_hyperglycemia_critical_overnight_auto = auto_cgm_overnight_df[auto_cgm_overnight_df['Sensor Glucose (mg/dL)'] > 250].groupby('Date').agg(lambda x: x.count() * 100 / 288)['Sensor Glucose (mg/dL)'].mean()\n",
    "\n",
    "pcnt_time_hyperglycemia_range_overnight_auto = auto_cgm_overnight_df[auto_cgm_overnight_df['Sensor Glucose (mg/dL)'] <= 180].groupby('Date').agg(lambda x: x.count() * 100 / 288)['Sensor Glucose (mg/dL)'].mean()\n",
    "\n",
    "pcnt_time_hyperglycemia_range_secondary_overnight_auto = auto_cgm_overnight_df[auto_cgm_overnight_df['Sensor Glucose (mg/dL)'] <= 150].groupby('Date').agg(lambda x: x.count() * 100 / 288)['Sensor Glucose (mg/dL)'].mean()\n",
    "\n",
    "pcnt_time_hyperglycemia_hypoglycemia_lvl1_overnight_auto = auto_cgm_overnight_df[auto_cgm_overnight_df['Sensor Glucose (mg/dL)'] < 70].groupby('Date').agg(lambda x: x.count() * 100 / 288)['Sensor Glucose (mg/dL)'].mean()\n",
    "\n",
    "pcnt_time_hyperglycemia_hypoglycemia_lvl2_overnight_auto = auto_cgm_overnight_df[auto_cgm_overnight_df['Sensor Glucose (mg/dL)'] < 54].groupby('Date').agg(lambda x: x.count() * 100 / 288)['Sensor Glucose (mg/dL)'].mean()"
   ]
  },
  {
   "cell_type": "code",
   "execution_count": 24,
   "id": "2b481ff6",
   "metadata": {},
   "outputs": [],
   "source": [
    "pcnt_time_hyperglycemia_wholeday_manual = manual_cgm_df[manual_cgm_df['Sensor Glucose (mg/dL)'] > 180].groupby('Date').agg(lambda x: x.count() * 100 / 288)['Sensor Glucose (mg/dL)'].mean()\n",
    "\n",
    "pcnt_time_hyperglycemia_critical_wholeday_manual = manual_cgm_df[manual_cgm_df['Sensor Glucose (mg/dL)'] > 250].groupby('Date').agg(lambda x: x.count() * 100 / 288)['Sensor Glucose (mg/dL)'].mean()\n",
    "\n",
    "pcnt_time_hyperglycemia_range_wholeday_manual = manual_cgm_df[manual_cgm_df['Sensor Glucose (mg/dL)'] <= 180].groupby('Date').agg(lambda x: x.count() * 100 / 288)['Sensor Glucose (mg/dL)'].mean()\n",
    "\n",
    "pcnt_time_hyperglycemia_range_secondary_wholeday_manual = manual_cgm_df[manual_cgm_df['Sensor Glucose (mg/dL)'] <= 150].groupby('Date').agg(lambda x: x.count() * 100 / 288)['Sensor Glucose (mg/dL)'].mean()\n",
    "\n",
    "pcnt_time_hyperglycemia_hypoglycemia_lvl1_wholeday_manual = manual_cgm_df[manual_cgm_df['Sensor Glucose (mg/dL)'] < 70].groupby('Date').agg(lambda x: x.count() * 100 / 288)['Sensor Glucose (mg/dL)'].mean()\n",
    "\n",
    "pcnt_time_hyperglycemia_hypoglycemia_lvl2_wholeday_manual = manual_cgm_df[manual_cgm_df['Sensor Glucose (mg/dL)'] < 54].groupby('Date').agg(lambda x: x.count() * 100 / 288)['Sensor Glucose (mg/dL)'].mean()"
   ]
  },
  {
   "cell_type": "code",
   "execution_count": 25,
   "id": "0463d696",
   "metadata": {},
   "outputs": [],
   "source": [
    "pcnt_time_hyperglycemia_daytime_manual = manual_cgm_daytime_df[manual_cgm_daytime_df['Sensor Glucose (mg/dL)'] > 180].groupby('Date').agg(lambda x: x.count() * 100 / 288)['Sensor Glucose (mg/dL)'].mean()\n",
    "\n",
    "pcnt_time_hyperglycemia_critical_daytime_manual = manual_cgm_daytime_df[manual_cgm_daytime_df['Sensor Glucose (mg/dL)'] > 250].groupby('Date').agg(lambda x: x.count() * 100 / 288)['Sensor Glucose (mg/dL)'].mean()\n",
    "\n",
    "pcnt_time_hyperglycemia_range_daytime_manual = manual_cgm_daytime_df[manual_cgm_daytime_df['Sensor Glucose (mg/dL)'] <= 180].groupby('Date').agg(lambda x: x.count() * 100 / 288)['Sensor Glucose (mg/dL)'].mean()\n",
    "\n",
    "pcnt_time_hyperglycemia_range_secondary_daytime_manual = manual_cgm_daytime_df[manual_cgm_daytime_df['Sensor Glucose (mg/dL)'] <= 150].groupby('Date').agg(lambda x: x.count() * 100 / 288)['Sensor Glucose (mg/dL)'].mean()\n",
    "\n",
    "pcnt_time_hyperglycemia_hypoglycemia_lvl1_daytime_manual = manual_cgm_daytime_df[manual_cgm_daytime_df['Sensor Glucose (mg/dL)'] < 70].groupby('Date').agg(lambda x: x.count() * 100 / 288)['Sensor Glucose (mg/dL)'].mean()\n",
    "\n",
    "pcnt_time_hyperglycemia_hypoglycemia_lvl2_daytime_manual = manual_cgm_daytime_df[manual_cgm_daytime_df['Sensor Glucose (mg/dL)'] < 54].groupby('Date').agg(lambda x: x.count() * 100 / 288)['Sensor Glucose (mg/dL)'].mean()"
   ]
  },
  {
   "cell_type": "code",
   "execution_count": 26,
   "id": "1cee42b6",
   "metadata": {},
   "outputs": [],
   "source": [
    "pcnt_time_hyperglycemia_overnight_manual = manual_cgm_overnight_df[manual_cgm_overnight_df['Sensor Glucose (mg/dL)'] > 180].groupby('Date').agg(lambda x: x.count() * 100 / 288)['Sensor Glucose (mg/dL)'].mean()\n",
    "\n",
    "pcnt_time_hyperglycemia_critical_overnight_manual = manual_cgm_overnight_df[manual_cgm_overnight_df['Sensor Glucose (mg/dL)'] > 250].groupby('Date').agg(lambda x: x.count() * 100 / 288)['Sensor Glucose (mg/dL)'].mean()\n",
    "\n",
    "pcnt_time_hyperglycemia_range_overnight_manual = manual_cgm_overnight_df[manual_cgm_overnight_df['Sensor Glucose (mg/dL)'] <= 180].groupby('Date').agg(lambda x: x.count() * 100 / 288)['Sensor Glucose (mg/dL)'].mean()\n",
    "\n",
    "pcnt_time_hyperglycemia_range_secondary_overnight_manual = manual_cgm_overnight_df[manual_cgm_overnight_df['Sensor Glucose (mg/dL)'] <= 150].groupby('Date').agg(lambda x: x.count() * 100 / 288)['Sensor Glucose (mg/dL)'].mean()\n",
    "\n",
    "pcnt_time_hyperglycemia_hypoglycemia_lvl1_overnight_manual = manual_cgm_overnight_df[manual_cgm_overnight_df['Sensor Glucose (mg/dL)'] < 70].groupby('Date').agg(lambda x: x.count() * 100 / 288)['Sensor Glucose (mg/dL)'].mean()\n",
    "\n",
    "pcnt_time_hyperglycemia_hypoglycemia_lvl2_overnight_manual = manual_cgm_overnight_df[manual_cgm_overnight_df['Sensor Glucose (mg/dL)'] < 54].groupby('Date').agg(lambda x: x.count() * 100 / 288)['Sensor Glucose (mg/dL)'].mean()"
   ]
  },
  {
   "cell_type": "code",
   "execution_count": 27,
   "id": "d2581268",
   "metadata": {},
   "outputs": [],
   "source": [
    "results_df = pd.DataFrame({\n",
    "    'Overnight Percentage time in hyperglycemia (CGM > 180 mg/dL)': [pcnt_time_hyperglycemia_overnight_manual, pcnt_time_hyperglycemia_overnight_auto],\n",
    "    'Overnight percentage of time in hyperglycemia critical (CGM > 250 mg/dL)': [pcnt_time_hyperglycemia_critical_overnight_manual, pcnt_time_hyperglycemia_critical_overnight_auto],\n",
    "    'Overnight percentage time in range (CGM >= 70 mg/dL and CGM <= 180 mg/dL)': [pcnt_time_hyperglycemia_range_overnight_manual, pcnt_time_hyperglycemia_range_overnight_auto],\n",
    "    'Overnight percentage time in range secondary (CGM >= 70 mg/dL and CGM <= 150 mg/dL)': [pcnt_time_hyperglycemia_range_secondary_overnight_manual, pcnt_time_hyperglycemia_range_secondary_overnight_auto],\n",
    "    'Overnight percentage time in hypoglycemia level 1 (CGM < 70 mg/dL)': [pcnt_time_hyperglycemia_hypoglycemia_lvl1_overnight_manual, pcnt_time_hyperglycemia_hypoglycemia_lvl1_overnight_auto],\n",
    "    'Overnight percentage time in hypoglycemia level 2 (CGM < 54 mg/dL)': [pcnt_time_hyperglycemia_hypoglycemia_lvl2_overnight_manual, np.nan_to_num(pcnt_time_hyperglycemia_hypoglycemia_lvl2_overnight_auto)],\n",
    "    'Daytime Percentage time in hyperglycemia (CGM > 180 mg/dL)': [pcnt_time_hyperglycemia_daytime_manual, pcnt_time_hyperglycemia_daytime_auto],\n",
    "    'Daytime percentage of time in hyperglycemia critical (CGM > 250 mg/dL)': [pcnt_time_hyperglycemia_critical_daytime_manual, pcnt_time_hyperglycemia_critical_daytime_auto],\n",
    "    'Daytime percentage time in range (CGM >= 70 mg/dL and CGM <= 180 mg/dL)': [pcnt_time_hyperglycemia_range_daytime_manual, pcnt_time_hyperglycemia_range_daytime_auto],\n",
    "    'Daytime percentage time in range secondary (CGM >= 70 mg/dL and CGM <= 150 mg/dL)': [pcnt_time_hyperglycemia_range_secondary_daytime_manual, pcnt_time_hyperglycemia_range_secondary_daytime_auto],\n",
    "    'Daytime percentage time in hypoglycemia level 1 (CGM < 70 mg/dL)': [pcnt_time_hyperglycemia_hypoglycemia_lvl1_daytime_manual, pcnt_time_hyperglycemia_hypoglycemia_lvl1_daytime_auto],\n",
    "    'Daytime percentage time in hypoglycemia level 2 (CGM < 54 mg/dL)': [pcnt_time_hyperglycemia_hypoglycemia_lvl2_daytime_manual, pcnt_time_hyperglycemia_hypoglycemia_lvl2_daytime_auto],\n",
    "    'Whole Day Percentage time in hyperglycemia (CGM > 180 mg/dL)': [pcnt_time_hyperglycemia_wholeday_manual, pcnt_time_hyperglycemia_wholeday_auto],\n",
    "    'Whole day percentage of time in hyperglycemia critical (CGM > 250 mg/dL)': [pcnt_time_hyperglycemia_critical_wholeday_manual, pcnt_time_hyperglycemia_critical_wholeday_auto],\n",
    "    'Whole day percentage time in range (CGM >= 70 mg/dL and CGM <= 180 mg/dL)': [pcnt_time_hyperglycemia_range_wholeday_manual, pcnt_time_hyperglycemia_range_wholeday_auto],\n",
    "    'Whole day percentage time in range secondary (CGM >= 70 mg/dL and CGM <= 150 mg/dL)': [pcnt_time_hyperglycemia_range_secondary_wholeday_manual, pcnt_time_hyperglycemia_range_secondary_wholeday_auto],\n",
    "    'Whole day percentage time in hypoglycemia level 1 (CGM < 70 mg/dL)': [pcnt_time_hyperglycemia_hypoglycemia_lvl1_wholeday_manual, pcnt_time_hyperglycemia_hypoglycemia_lvl1_wholeday_auto],\n",
    "    'Whole Day percentage time in hypoglycemia level 2 (CGM < 54 mg/dL)': [pcnt_time_hyperglycemia_hypoglycemia_lvl2_wholeday_manual, pcnt_time_hyperglycemia_hypoglycemia_lvl2_wholeday_auto]\n",
    "}, index = ['Manual Mode', 'Auto Mode'])"
   ]
  },
  {
   "cell_type": "code",
   "execution_count": 28,
   "id": "8e49fe12",
   "metadata": {},
   "outputs": [],
   "source": [
    "results_df.to_csv('./Results.csv')"
   ]
  }
 ],
 "metadata": {
  "kernelspec": {
   "display_name": "Python 3 (ipykernel)",
   "language": "python",
   "name": "python3"
  },
  "language_info": {
   "codemirror_mode": {
    "name": "ipython",
    "version": 3
   },
   "file_extension": ".py",
   "mimetype": "text/x-python",
   "name": "python",
   "nbconvert_exporter": "python",
   "pygments_lexer": "ipython3",
   "version": "3.8.16"
  }
 },
 "nbformat": 4,
 "nbformat_minor": 5
}
